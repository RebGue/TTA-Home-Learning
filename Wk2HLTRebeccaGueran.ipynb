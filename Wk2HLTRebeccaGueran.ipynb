{
 "cells": [
  {
   "cell_type": "markdown",
   "metadata": {},
   "source": [
    "TASK 1"
   ]
  },
  {
   "cell_type": "code",
   "execution_count": 62,
   "metadata": {},
   "outputs": [],
   "source": [
    "import random\n",
    "RandomNumber=random.randint(1, 10)\n",
    "UserName = input(\"What is your name\")"
   ]
  },
  {
   "cell_type": "code",
   "execution_count": 63,
   "metadata": {},
   "outputs": [
    {
     "name": "stdout",
     "output_type": "stream",
     "text": [
      "Rebecca, I'm thinking between 1 and 10\n"
     ]
    }
   ],
   "source": [
    "print(UserName + \", I'm thinking between 1 and 10\") "
   ]
  },
  {
   "cell_type": "code",
   "execution_count": 78,
   "metadata": {},
   "outputs": [],
   "source": [
    "answer = int(input(\"what is it\"))"
   ]
  },
  {
   "cell_type": "code",
   "execution_count": 84,
   "metadata": {},
   "outputs": [
    {
     "name": "stdout",
     "output_type": "stream",
     "text": [
      "Rebecca  you're correct!\n"
     ]
    }
   ],
   "source": [
    "if answer == RandomNumber:\n",
    "    print(UserName, \" you're correct!\")\n",
    "else:\n",
    "    print(UserName, \" sorry you're wrong!\")"
   ]
  },
  {
   "cell_type": "markdown",
   "metadata": {},
   "source": [
    "TASK 2"
   ]
  },
  {
   "cell_type": "code",
   "execution_count": 9,
   "metadata": {},
   "outputs": [],
   "source": [
    "FavouriteNumber=int(input(\"If you tell me your favourite number between 1 and 100, I'll tell you joke based on the number\"))"
   ]
  },
  {
   "cell_type": "code",
   "execution_count": 10,
   "metadata": {},
   "outputs": [
    {
     "name": "stdout",
     "output_type": "stream",
     "text": [
      "I used to think I was indecisive. But now I’m not so sure.\n"
     ]
    }
   ],
   "source": [
    "if FavouriteNumber<34:\n",
    "    print(\"Have you heard about the claustrophobic astronaut? He just needed a little space\")\n",
    "elif FavouriteNumber>=34 and FavouriteNumber<67:\n",
    "    print(\" I can’t believe I got fired from the calendar factory. All I did was take a day off.\")  \n",
    "else:\n",
    "    print(\"I used to think I was indecisive. But now I’m not so sure.\")  \n"
   ]
  },
  {
   "cell_type": "markdown",
   "metadata": {},
   "source": [
    "TASK 3"
   ]
  },
  {
   "cell_type": "code",
   "execution_count": 1,
   "metadata": {},
   "outputs": [],
   "source": [
    "FavStarter=input(\"What's your favourite starter?\")"
   ]
  },
  {
   "cell_type": "code",
   "execution_count": 3,
   "metadata": {},
   "outputs": [],
   "source": [
    "FavMain=input(\"What's your favourite main?\")"
   ]
  },
  {
   "cell_type": "code",
   "execution_count": 2,
   "metadata": {},
   "outputs": [],
   "source": [
    "FavDessert=input(\"What's your favourite dessert?\")"
   ]
  },
  {
   "cell_type": "code",
   "execution_count": 4,
   "metadata": {},
   "outputs": [],
   "source": [
    "FavDrink=input(\"What's your favourite drink?\")"
   ]
  },
  {
   "cell_type": "code",
   "execution_count": 9,
   "metadata": {},
   "outputs": [
    {
     "name": "stdout",
     "output_type": "stream",
     "text": [
      "Your favourite meal is Goat's Cheese Salad , Pasta and Chocolate Pudding with a glass of White Wine\n"
     ]
    }
   ],
   "source": [
    "print(\"Your favourite meal is\", FavStarter,\",\", FavMain, \"and\", FavDessert, \"with a glass of\", FavDrink)"
   ]
  },
  {
   "cell_type": "markdown",
   "metadata": {},
   "source": [
    "TASK 4"
   ]
  },
  {
   "cell_type": "code",
   "execution_count": 33,
   "metadata": {},
   "outputs": [
    {
     "name": "stdout",
     "output_type": "stream",
     "text": [
      "Next year the bike is worth £ 2000\n",
      "Next year the bike is worth £ 1800.0\n",
      "Next year the bike is worth £ 1620.0\n",
      "Next year the bike is worth £ 1458.0\n",
      "Next year the bike is worth £ 1312.2\n",
      "Next year the bike is worth £ 1180.98\n",
      "Next year the bike is worth £ 1062.882\n",
      "Next year the bike is worth £ 956.5938000000001\n"
     ]
    }
   ],
   "source": [
    "#Motorbike worth £2000 loses 10% of it's value a year until it falls below £1000\n",
    "bike = 2000\n",
    "while bike >=900 :\n",
    "    print (\"Next year the bike is worth £\", bike)\n",
    "    bike=bike/100*90"
   ]
  },
  {
   "cell_type": "markdown",
   "metadata": {},
   "source": [
    "TASK 5"
   ]
  },
  {
   "cell_type": "code",
   "execution_count": null,
   "metadata": {},
   "outputs": [],
   "source": [
    "input(\"Pick your first number\")"
   ]
  },
  {
   "cell_type": "code",
   "execution_count": null,
   "metadata": {},
   "outputs": [],
   "source": [
    "input(\"Pick your second number\")"
   ]
  },
  {
   "cell_type": "code",
   "execution_count": null,
   "metadata": {},
   "outputs": [],
   "source": [
    "a=+\n",
    "b=-\n",
    "c=/\n",
    "d=*\n",
    "e=**"
   ]
  },
  {
   "cell_type": "code",
   "execution_count": null,
   "metadata": {},
   "outputs": [],
   "source": [
    "input(\"Enter\",a,\"if you want to add\"\n",
    "\"enter\", b,\"if you want to subtract\"\n",
    "\"enter\", c, \"if you want to divide\"\n",
    "\"enter\", d, \"if you want to multiple\"\n",
    "\"enter\", e, \"if you want to square\")"
   ]
  },
  {
   "cell_type": "code",
   "execution_count": null,
   "metadata": {},
   "outputs": [],
   "source": []
  }
 ],
 "metadata": {
  "interpreter": {
   "hash": "23a3b7667cada71a0a81b35ecfa41a0f89568eb6353e9857c0942df2a859c105"
  },
  "kernelspec": {
   "display_name": "Python 3.10.2 64-bit",
   "language": "python",
   "name": "python3"
  },
  "language_info": {
   "codemirror_mode": {
    "name": "ipython",
    "version": 3
   },
   "file_extension": ".py",
   "mimetype": "text/x-python",
   "name": "python",
   "nbconvert_exporter": "python",
   "pygments_lexer": "ipython3",
   "version": "3.10.2"
  },
  "orig_nbformat": 4
 },
 "nbformat": 4,
 "nbformat_minor": 2
}
