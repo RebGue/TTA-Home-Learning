{
 "cells": [
  {
   "cell_type": "markdown",
   "metadata": {},
   "source": [
    "Task 1 - Write a program that allows you to enter 4 numbers and stores them in a file called “Numbers”​\n",
    "\n",
    "3​\n",
    "\n",
    "45​\n",
    "\n",
    "83​\n",
    "\n",
    "21​\n",
    "\n",
    "Have a go at ‘w’ ‘r’  ‘a’"
   ]
  },
  {
   "cell_type": "code",
   "execution_count": null,
   "metadata": {},
   "outputs": [],
   "source": [
    "number_file=open(\"Numbers.txt\",\"w\")\n",
    "number_file.close()"
   ]
  },
  {
   "cell_type": "code",
   "execution_count": null,
   "metadata": {},
   "outputs": [],
   "source": [
    "#write\n",
    "number_file=open(\"Numbers.txt\",\"w\")\n",
    "number_file.write(str(\"3\\n45\\n83\\n21\"))\n",
    "\n",
    "number_file.close()"
   ]
  },
  {
   "cell_type": "code",
   "execution_count": null,
   "metadata": {},
   "outputs": [],
   "source": [
    "#read\n",
    "with open(\"Numbers.txt\", \"r\") as number_file:\n",
    "    data = number_file.read().replace('\\n', ',')\n",
    "\n",
    "number_file.close()\n",
    "print(data)"
   ]
  },
  {
   "cell_type": "code",
   "execution_count": null,
   "metadata": {},
   "outputs": [],
   "source": [
    "#append\n",
    "number_file=open(\"Numbers.txt\", \"a\")\n",
    "number_file.write(\"\\nThis is the end of the numbers\")\n",
    "number_file.close()"
   ]
  },
  {
   "cell_type": "markdown",
   "metadata": {},
   "source": [
    "Task 2 - Write a program to ask a student for their percentage mark and convert this to a grade.\n",
    "        The conversion will be done in a function called mark_grade \n",
    "            Ask the user for their target grade and print this with their mark​\n",
    "            If their target grade > exam grade display a suitable message​\n",
    "            If their target grade = exam grade display a suitable message​\n",
    "            If their target grade < exam grade display a suitable message"
   ]
  },
  {
   "cell_type": "code",
   "execution_count": null,
   "metadata": {},
   "outputs": [],
   "source": [
    "def mark_grade(percentage_grade):\n",
    "    percentage_grade=int(input(\"What percentage score did you get in your exam?\"))\n",
    "    if percentage_grade >=85 and percentage_grade <=100:\n",
    "        return (\"Your grade is A\")\n",
    "    elif percentage_grade >=70 and percentage_grade <=84:\n",
    "        return (\"Your grade is B\") \n",
    "    elif percentage_grade >=55 and percentage_grade <=69:\n",
    "        return (\"Your grade is C\")  \n",
    "    elif percentage_grade >=40 and percentage_grade <=54:\n",
    "        return (\"Your grade is D\")\n",
    "    else:\n",
    "        return (\"You have failed\")\n",
    "\n",
    "message=mark_grade(100)\n",
    "print (message)                     "
   ]
  },
  {
   "cell_type": "code",
   "execution_count": null,
   "metadata": {},
   "outputs": [],
   "source": [
    "TargetGrade=input(\"What is your target grade?\")\n",
    "print (\"Your target grade is\", TargetGrade, \"and\",message)\n",
    "\n",
    "if TargetGrade > message:\n",
    "    print(\"Well done, you've done better than your target grade\")\n",
    "elif TargetGrade==message:\n",
    "    print(\"Well done, you've reached your target grade\")\n",
    "elif TargetGrade<message:\n",
    "    print(\"Keep trying, you're nearly at your target grade\")\n",
    "else:\n",
    "    print(\"Error, please try again\")\n",
    "\n",
    "#alphabet works that > is later in the alphabet rather than going up the grades so opposite to what you think "
   ]
  },
  {
   "cell_type": "markdown",
   "metadata": {},
   "source": [
    "NumPy Project\n",
    "\n",
    "​"
   ]
  },
  {
   "cell_type": "code",
   "execution_count": null,
   "metadata": {},
   "outputs": [],
   "source": [
    "pip install numpy"
   ]
  },
  {
   "cell_type": "code",
   "execution_count": null,
   "metadata": {},
   "outputs": [],
   "source": [
    "import numpy as np"
   ]
  },
  {
   "cell_type": "code",
   "execution_count": null,
   "metadata": {},
   "outputs": [],
   "source": [
    "#Create a 1D array of numbers from 0 to 9​\n",
    "array1=np.array([0,1,2,3,4,5,6,7,8,9])\n",
    "print (array1)\n"
   ]
  },
  {
   "cell_type": "code",
   "execution_count": null,
   "metadata": {},
   "outputs": [],
   "source": [
    "#Create a 3×3 NumPy array of all Boolean value Trues​\n",
    "array2 = np.arange(1,10).reshape(3,3)\n",
    "print (array2)"
   ]
  },
  {
   "cell_type": "code",
   "execution_count": null,
   "metadata": {},
   "outputs": [],
   "source": [
    "#Extract all odd numbers from array of 1-10​\n",
    "array3=np.arange(1,10,2)\n",
    "print(array3)\n",
    "\n"
   ]
  },
  {
   "cell_type": "code",
   "execution_count": null,
   "metadata": {},
   "outputs": [],
   "source": [
    "#Replace all odd numbers in an array of 1-10 with the value -1​\n",
    "Array4 =np.array([1,2,3,4,5,6,7,8,9,10])\n",
    "Array4[Array4%2==1]= -1 #%2==1 is the calculation for finding odd numbers\n",
    "print(Array4)"
   ]
  },
  {
   "cell_type": "code",
   "execution_count": null,
   "metadata": {},
   "outputs": [],
   "source": [
    "#Convert a 1D array to a 2D array with 2 rows​\n",
    "Array5=np.array([1,2,3,4,5,6]) #don't forget the square brackets\n",
    "ConvertedArray=Array5.reshape(2,3) #rows then columns\n",
    "print(ConvertedArray)"
   ]
  },
  {
   "cell_type": "code",
   "execution_count": null,
   "metadata": {},
   "outputs": [],
   "source": [
    "#Create two arrays a and b, stack these two arrays vertically use the  np.dot and np.sum to calculate totals​\n",
    "a = np.arange(1,5).reshape(2,2)\n",
    "b = np.arange(5,9).reshape(2,2)\n",
    "c = np.dot(a,b)\n",
    "print(c)"
   ]
  },
  {
   "cell_type": "code",
   "execution_count": null,
   "metadata": {},
   "outputs": [],
   "source": [
    "d=np.sum(c) #adds up all the multiplied numbers from above\n",
    "print(d)"
   ]
  },
  {
   "cell_type": "code",
   "execution_count": null,
   "metadata": {},
   "outputs": [],
   "source": [
    "e=np.sum(c,axis=0) #adds up the each column that were multiplied above\n",
    "print(e)"
   ]
  },
  {
   "cell_type": "markdown",
   "metadata": {},
   "source": [
    "Extension:​\n",
    "\n",
    "Create the following pattern without hardcoding. Use only NumPy  functions.​\n",
    "\n",
    "In two arrays a ( 1,2,3,4,5) and b ( 4,5,6,7,8,9) – remove all repeating  items present in array b​\n",
    "\n",
    "​ Get all items between 3 and 7 from a and b and sum them together​"
   ]
  },
  {
   "cell_type": "code",
   "execution_count": null,
   "metadata": {},
   "outputs": [],
   "source": [
    "a=np.array([1,2,3,4,5])\n",
    "b=np.array([4,5,6,7,8,9])\n",
    "b=np.delete(b,[0,1])\n",
    "print(b)"
   ]
  },
  {
   "cell_type": "code",
   "execution_count": null,
   "metadata": {},
   "outputs": [],
   "source": [
    "a_b=np.concatenate((a,b),axis=0) #concatenate means combining\n",
    "NumberSection =(a_b[2:7])\n",
    "SumTogether=np.sum(NumberSection)\n",
    "print (SumTogether)"
   ]
  }
 ],
 "metadata": {
  "interpreter": {
   "hash": "23a3b7667cada71a0a81b35ecfa41a0f89568eb6353e9857c0942df2a859c105"
  },
  "kernelspec": {
   "display_name": "Python 3.10.2 64-bit",
   "language": "python",
   "name": "python3"
  },
  "language_info": {
   "codemirror_mode": {
    "name": "ipython",
    "version": 3
   },
   "file_extension": ".py",
   "mimetype": "text/x-python",
   "name": "python",
   "nbconvert_exporter": "python",
   "pygments_lexer": "ipython3",
   "version": "3.10.2"
  },
  "orig_nbformat": 4
 },
 "nbformat": 4,
 "nbformat_minor": 2
}
