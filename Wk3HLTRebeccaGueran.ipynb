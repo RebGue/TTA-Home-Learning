{
 "cells": [
  {
   "cell_type": "markdown",
   "metadata": {},
   "source": [
    "Task 1 - Flowchart Code\n",
    "Create your own Flow Diagram, a subject of your own choice, Example: Fast food order and convert it into code."
   ]
  },
  {
   "cell_type": "code",
   "execution_count": null,
   "metadata": {},
   "outputs": [],
   "source": [
    "#Find out age to reccommend which piano book is best for them\n",
    "age=int(input(\"Let's see what piano tuition book you should buy - how old are you?\"))\n",
    "if age <=12:\n",
    "    print(\"You should buy The Green Book Pre A Piano Course Book by Schaum\")\n",
    "elif age > 12:\n",
    "    print(\"You should buy The Classical Piano Method by Heumann\")   \n",
    "else:\n",
    "    print(\"Error, please try enter your age in numbers again\")     "
   ]
  },
  {
   "cell_type": "markdown",
   "metadata": {},
   "source": [
    "Task 2 - Motorbike\n",
    "As an extension to the motorbike task that costs £2000 and loses 10% of its value every year. Set up a function that performs the calculation by passing in parameters. Then using a loop, print the value of the bike every following year until it falls below £1000."
   ]
  },
  {
   "cell_type": "code",
   "execution_count": null,
   "metadata": {},
   "outputs": [],
   "source": [
    "def DepreciationBike (inp_cost):\n",
    "    InitialCost=inp_cost\n",
    "    output=InitialCost*0.9\n",
    "    return output\n",
    "depreciation = DepreciationBike(inp_cost=2000)\n",
    "while depreciation >=1000:\n",
    "    print (\"The bike value next year will be\",depreciation)\n",
    "    depreciation=depreciation*0.9\n",
    "    \n",
    "\n",
    "\n",
    "   \n",
    "       "
   ]
  },
  {
   "cell_type": "markdown",
   "metadata": {},
   "source": [
    "Task 3 \n",
    "Write a program which will ask for two numbers from a user. Then offer an option menu to the user giving them a choice of mathsoperators. Once the user has selected which operator they wish to use, perform the calculation by using a procedure and passing parameters. "
   ]
  },
  {
   "cell_type": "code",
   "execution_count": null,
   "metadata": {},
   "outputs": [],
   "source": [
    "FirstNumber=int(input(\"Pick a number\"))\n",
    "SecondNumber=int(input(\"Pick a second number\"))\n",
    "input(\"Enter a if you want to add, b to subtract, c to divide, d to multiple, e to square\")\n",
    "def calculation (ChosenOperator):\n",
    "    a,b,c,d,e=ChosenOperator\n",
    "    if (\"+\") == a:\n",
    "        print( FirstNumber + SecondNumber)\n",
    "    elif (\"-\") == b:\n",
    "        print(FirstNumber - SecondNumber)\n",
    "    elif (\"/\") == c:\n",
    "        print(FirstNumber / SecondNumber)\n",
    "    elif (\"*\") == d:\n",
    "        print(FirstNumber * SecondNumber)\n",
    "    elif  (\"**\") == e:\n",
    "        print(FirstNumber ** SecondNumber)\n",
    "    else:\n",
    "        print(\"An appropriate operator was not selected!\")\n",
    "\n",
    "\n",
    "      \n",
    "\n",
    "\n"
   ]
  }
 ],
 "metadata": {
  "interpreter": {
   "hash": "23a3b7667cada71a0a81b35ecfa41a0f89568eb6353e9857c0942df2a859c105"
  },
  "kernelspec": {
   "display_name": "Python 3.10.2 64-bit",
   "language": "python",
   "name": "python3"
  },
  "language_info": {
   "codemirror_mode": {
    "name": "ipython",
    "version": 3
   },
   "file_extension": ".py",
   "mimetype": "text/x-python",
   "name": "python",
   "nbconvert_exporter": "python",
   "pygments_lexer": "ipython3",
   "version": "3.10.2"
  },
  "orig_nbformat": 4
 },
 "nbformat": 4,
 "nbformat_minor": 2
}
